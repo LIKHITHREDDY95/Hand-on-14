{
  "nbformat": 4,
  "nbformat_minor": 0,
  "metadata": {
    "colab": {
      "provenance": [],
      "authorship_tag": "ABX9TyOgL6KgRuRVG+JBva43YlDr",
      "include_colab_link": true
    },
    "kernelspec": {
      "name": "python3",
      "display_name": "Python 3"
    },
    "language_info": {
      "name": "python"
    }
  },
  "cells": [
    {
      "cell_type": "markdown",
      "metadata": {
        "id": "view-in-github",
        "colab_type": "text"
      },
      "source": [
        "<a href=\"https://colab.research.google.com/github/LIKHITHREDDY95/Hand-on-14/blob/main/Dijkstra's_algorithm.ipynb\" target=\"_parent\"><img src=\"https://colab.research.google.com/assets/colab-badge.svg\" alt=\"Open In Colab\"/></a>"
      ]
    },
    {
      "cell_type": "code",
      "execution_count": 1,
      "metadata": {
        "colab": {
          "base_uri": "https://localhost:8080/"
        },
        "id": "ThZAs1qFMrag",
        "outputId": "03b9f12d-38a5-469e-dff7-f922680d1a1d"
      },
      "outputs": [
        {
          "output_type": "stream",
          "name": "stdout",
          "text": [
            "Shortest distances from A:\n",
            "To A: 0 (Path: A)\n",
            "To B: 3 (Path: A -> C -> B)\n",
            "To C: 2 (Path: A -> C)\n",
            "To D: 8 (Path: A -> C -> B -> D)\n",
            "To E: 10 (Path: A -> C -> B -> D -> E)\n"
          ]
        }
      ],
      "source": [
        "from collections import defaultdict\n",
        "import heapq\n",
        "\n",
        "def dijkstra(graph, start):\n",
        "\n",
        "    # Initialize distances and paths\n",
        "    distances = {node: float('infinity') for node in graph}\n",
        "    distances[start] = 0\n",
        "    paths = {node: [] for node in graph}\n",
        "    paths[start] = [start]\n",
        "\n",
        "    # Priority queue to store (distance, node) pairs\n",
        "    pq = [(0, start)]\n",
        "\n",
        "    while pq:\n",
        "        current_distance, current_node = heapq.heappop(pq)\n",
        "\n",
        "        # If we've found a longer path, skip\n",
        "        if current_distance > distances[current_node]:\n",
        "            continue\n",
        "\n",
        "        # Check all neighbors of current node\n",
        "        for neighbor, weight in graph[current_node].items():\n",
        "            distance = current_distance + weight\n",
        "\n",
        "            # If we've found a shorter path, update it\n",
        "            if distance < distances[neighbor]:\n",
        "                distances[neighbor] = distance\n",
        "                paths[neighbor] = paths[current_node] + [neighbor]\n",
        "                heapq.heappush(pq, (distance, neighbor))\n",
        "\n",
        "    return distances, paths\n",
        "\n",
        "# Example usage\n",
        "def example():\n",
        "    # Create a sample graph\n",
        "    graph = {\n",
        "        'A': {'B': 4, 'C': 2},\n",
        "        'B': {'A': 4, 'C': 1, 'D': 5},\n",
        "        'C': {'A': 2, 'B': 1, 'D': 8, 'E': 10},\n",
        "        'D': {'B': 5, 'C': 8, 'E': 2},\n",
        "        'E': {'C': 10, 'D': 2}\n",
        "    }\n",
        "\n",
        "    # Find shortest paths from node 'A'\n",
        "    distances, paths = dijkstra(graph, 'A')\n",
        "\n",
        "    # Print results\n",
        "    print(\"Shortest distances from A:\")\n",
        "    for node in sorted(distances.keys()):\n",
        "        print(f\"To {node}: {distances[node]} (Path: {' -> '.join(paths[node])})\")\n",
        "\n",
        "if __name__ == \"__main__\":\n",
        "    example()"
      ]
    }
  ]
}