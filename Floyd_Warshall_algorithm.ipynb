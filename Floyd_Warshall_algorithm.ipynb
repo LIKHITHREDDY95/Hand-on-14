{
  "nbformat": 4,
  "nbformat_minor": 0,
  "metadata": {
    "colab": {
      "provenance": [],
      "authorship_tag": "ABX9TyMOfWN0vNf5H5tysVpvvPy0",
      "include_colab_link": true
    },
    "kernelspec": {
      "name": "python3",
      "display_name": "Python 3"
    },
    "language_info": {
      "name": "python"
    }
  },
  "cells": [
    {
      "cell_type": "markdown",
      "metadata": {
        "id": "view-in-github",
        "colab_type": "text"
      },
      "source": [
        "<a href=\"https://colab.research.google.com/github/LIKHITHREDDY95/Hand-on-14/blob/main/Floyd_Warshall_algorithm.ipynb\" target=\"_parent\"><img src=\"https://colab.research.google.com/assets/colab-badge.svg\" alt=\"Open In Colab\"/></a>"
      ]
    },
    {
      "cell_type": "code",
      "execution_count": 1,
      "metadata": {
        "colab": {
          "base_uri": "https://localhost:8080/"
        },
        "id": "AiU4AP1ZOCMT",
        "outputId": "1cc2b6dc-11c5-46d6-ae1f-85358e8f7f4d"
      },
      "outputs": [
        {
          "output_type": "stream",
          "name": "stdout",
          "text": [
            "\n",
            "Shortest distances between all pairs of vertices:\n",
            "      A     B     C     D\n",
            "A:   0   5   8   9\n",
            "B: INF   0   3   4\n",
            "C: INF INF   0   1\n",
            "D: INF INF INF   0\n",
            "\n",
            "Example paths:\n",
            "A to B: A → B (distance: 5)\n",
            "A to C: A → B → C (distance: 8)\n",
            "A to D: A → B → C → D (distance: 9)\n",
            "B to A: No path exists\n",
            "B to C: B → C (distance: 3)\n",
            "B to D: B → C → D (distance: 4)\n",
            "C to A: No path exists\n",
            "C to B: No path exists\n",
            "C to D: C → D (distance: 1)\n",
            "D to A: No path exists\n",
            "D to B: No path exists\n",
            "D to C: No path exists\n"
          ]
        }
      ],
      "source": [
        "def floyd_warshall(graph):\n",
        "\n",
        "    V = len(graph)  # Number of vertices\n",
        "\n",
        "    # Initialize distance matrix and next vertex matrix\n",
        "    distances = [[graph[i][j] for j in range(V)] for i in range(V)]\n",
        "    next_vertex = [[j if graph[i][j] != float('inf') and i != j else None\n",
        "                   for j in range(V)] for i in range(V)]\n",
        "\n",
        "    # Core Floyd-Warshall algorithm\n",
        "    for k in range(V):\n",
        "        for i in range(V):\n",
        "            for j in range(V):\n",
        "                if distances[i][k] != float('inf') and distances[k][j] != float('inf'):\n",
        "                    if distances[i][j] > distances[i][k] + distances[k][j]:\n",
        "                        distances[i][j] = distances[i][k] + distances[k][j]\n",
        "                        next_vertex[i][j] = next_vertex[i][k]\n",
        "\n",
        "    # Check for negative cycles\n",
        "    for i in range(V):\n",
        "        if distances[i][i] < 0:\n",
        "            raise ValueError(\"Graph contains negative cycles\")\n",
        "\n",
        "    return distances, next_vertex\n",
        "\n",
        "def get_path(next_vertex, start, end):\n",
        "\n",
        "    if next_vertex[start][end] is None:\n",
        "        return []\n",
        "\n",
        "    path = [start]\n",
        "    while start != end:\n",
        "        start = next_vertex[start][end]\n",
        "        path.append(start)\n",
        "    return path\n",
        "\n",
        "def print_distances(distances, vertices):\n",
        "    \"\"\"\n",
        "    Pretty print the distance matrix.\n",
        "    \"\"\"\n",
        "    print(\"\\nShortest distances between all pairs of vertices:\")\n",
        "    print(\"    \" + \"   \".join(str(v).rjust(3) for v in vertices))\n",
        "    for i, row in enumerate(distances):\n",
        "        print(f\"{vertices[i]}: {' '.join(str(d).rjust(3) if d != float('inf') else 'INF' for d in row)}\")\n",
        "\n",
        "def example():\n",
        "    \"\"\"\n",
        "    Example usage of Floyd-Warshall algorithm.\n",
        "    \"\"\"\n",
        "\n",
        "    INF = float('inf')\n",
        "    graph = [\n",
        "        [0, 5, INF, 10],\n",
        "        [INF, 0, 3, INF],\n",
        "        [INF, INF, 0, 1],\n",
        "        [INF, INF, INF, 0]\n",
        "    ]\n",
        "    vertices = ['A', 'B', 'C', 'D']\n",
        "\n",
        "    try:\n",
        "\n",
        "        distances, next_vertex = floyd_warshall(graph)\n",
        "\n",
        "\n",
        "        print_distances(distances, vertices)\n",
        "\n",
        "\n",
        "        print(\"\\nExample paths:\")\n",
        "        for start in range(len(graph)):\n",
        "            for end in range(len(graph)):\n",
        "                if start != end:\n",
        "                    path = get_path(next_vertex, start, end)\n",
        "                    if path:\n",
        "                        path_str = ' → '.join(vertices[v] for v in path)\n",
        "                        print(f\"{vertices[start]} to {vertices[end]}: {path_str} (distance: {distances[start][end]})\")\n",
        "                    else:\n",
        "                        print(f\"{vertices[start]} to {vertices[end]}: No path exists\")\n",
        "\n",
        "    except ValueError as e:\n",
        "        print(f\"Error: {e}\")\n",
        "\n",
        "if __name__ == \"__main__\":\n",
        "    example()"
      ]
    }
  ]
}