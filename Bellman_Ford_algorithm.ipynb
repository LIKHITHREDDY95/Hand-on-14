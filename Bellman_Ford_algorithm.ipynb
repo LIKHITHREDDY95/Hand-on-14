{
  "nbformat": 4,
  "nbformat_minor": 0,
  "metadata": {
    "colab": {
      "provenance": [],
      "authorship_tag": "ABX9TyOjy/MAvSoZEk8Y77tBheKE",
      "include_colab_link": true
    },
    "kernelspec": {
      "name": "python3",
      "display_name": "Python 3"
    },
    "language_info": {
      "name": "python"
    }
  },
  "cells": [
    {
      "cell_type": "markdown",
      "metadata": {
        "id": "view-in-github",
        "colab_type": "text"
      },
      "source": [
        "<a href=\"https://colab.research.google.com/github/LIKHITHREDDY95/Hand-on-14/blob/main/Bellman_Ford_algorithm.ipynb\" target=\"_parent\"><img src=\"https://colab.research.google.com/assets/colab-badge.svg\" alt=\"Open In Colab\"/></a>"
      ]
    },
    {
      "cell_type": "code",
      "execution_count": 1,
      "metadata": {
        "colab": {
          "base_uri": "https://localhost:8080/"
        },
        "id": "wK_fL8pzNtSB",
        "outputId": "e882122b-0710-4723-a31b-1e3460d8b12f"
      },
      "outputs": [
        {
          "output_type": "stream",
          "name": "stdout",
          "text": [
            "Graph contains a negative cycle!\n"
          ]
        }
      ],
      "source": [
        "def bellman_ford(edges, vertex_count, start):\n",
        "\n",
        "\n",
        "    distances = {i: float('infinity') for i in range(vertex_count)}\n",
        "    distances[start] = 0\n",
        "    predecessors = {i: None for i in range(vertex_count)}\n",
        "\n",
        "\n",
        "    for _ in range(vertex_count - 1):\n",
        "        for u, v, w in edges:\n",
        "            if distances[u] != float('infinity') and distances[u] + w < distances[v]:\n",
        "                distances[v] = distances[u] + w\n",
        "                predecessors[v] = u\n",
        "\n",
        "    has_negative_cycle = False\n",
        "    for u, v, w in edges:\n",
        "        if distances[u] != float('infinity') and distances[u] + w < distances[v]:\n",
        "            has_negative_cycle = True\n",
        "            break\n",
        "\n",
        "    return distances, predecessors, has_negative_cycle\n",
        "\n",
        "def get_path(predecessors, start, end):\n",
        "\n",
        "    if predecessors[end] is None and end != start:\n",
        "        return None  # No path exists\n",
        "\n",
        "    path = []\n",
        "    current = end\n",
        "    while current is not None:\n",
        "        path.append(current)\n",
        "        current = predecessors[current]\n",
        "    return path[::-1]\n",
        "\n",
        "\n",
        "def example():\n",
        "\n",
        "    edges = [\n",
        "        (0, 1, 4),   # 0 -> 1 with weight 4\n",
        "        (0, 2, 2),   # 0 -> 2 with weight 2\n",
        "        (1, 2, -1),  # 1 -> 2 with weight -1\n",
        "        (1, 3, 3),   # 1 -> 3 with weight 3\n",
        "        (2, 3, 1),   # 2 -> 3 with weight 1\n",
        "        (3, 1, -2),  # 3 -> 1 with weight -2\n",
        "    ]\n",
        "    vertex_count = 4\n",
        "    start_vertex = 0\n",
        "\n",
        "\n",
        "    distances, predecessors, has_negative_cycle = bellman_ford(edges, vertex_count, start_vertex)\n",
        "\n",
        "\n",
        "    if has_negative_cycle:\n",
        "        print(\"Graph contains a negative cycle!\")\n",
        "    else:\n",
        "        print(\"Shortest distances from vertex\", start_vertex)\n",
        "        for vertex in range(vertex_count):\n",
        "            path = get_path(predecessors, start_vertex, vertex)\n",
        "            print(f\"To vertex {vertex}: {distances[vertex]} (Path: {path})\")\n",
        "\n",
        "if __name__ == \"__main__\":\n",
        "    example()"
      ]
    }
  ]
}